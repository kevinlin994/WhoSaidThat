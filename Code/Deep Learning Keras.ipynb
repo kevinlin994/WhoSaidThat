{
 "cells": [
  {
   "cell_type": "code",
   "execution_count": null,
   "metadata": {},
   "outputs": [],
   "source": [
    "import pandas as pd \n",
    "import numpy as np\n",
    "import random\n",
    "from matplotlib import pyplot as plt\n",
    "%matplotlib inline\n",
    "\n",
    "from gensim import corpora, models, similarities, matutils\n",
    "from gensim.models import Word2Vec\n",
    "from nltk.corpus import gutenberg\n",
    "\n",
    "# keras\n",
    "np.random.seed(13)\n",
    "from keras.models import Sequential\n",
    "from keras.layers import Dense, Embedding, Reshape, Activation, SimpleRNN, GRU, LSTM, Convolution1D, MaxPooling1D, Add, Dropout\n",
    "from IPython.display import SVG\n",
    "from keras.utils import np_utils\n",
    "from keras.utils.data_utils import get_file\n",
    "from keras.preprocessing.text import Tokenizer\n",
    "from keras.datasets import imdb, reuters\n",
    "from keras.preprocessing import sequence\n",
    "from keras.optimizers import SGD, RMSprop\n",
    "\n",
    "import tensorflow as tf\n",
    "# import os\n",
    "# os.environ['KERAS_BACKEND'] = 'tensorflow'"
   ]
  },
  {
   "cell_type": "code",
   "execution_count": null,
   "metadata": {},
   "outputs": [],
   "source": [
    "from keras import Model\n",
    "from keras.layers import Dense\n",
    "\n",
    "from keras_pandas.Automater import Automater"
   ]
  },
  {
   "cell_type": "code",
   "execution_count": null,
   "metadata": {},
   "outputs": [],
   "source": [
    "#Reading in dataset of FFT data and sex\n",
    "df_fft = pd.read_csv('full_dataset_sex')\n",
    "df_fft.drop(columns='Unnamed: 0', inplace=True)"
   ]
  },
  {
   "cell_type": "code",
   "execution_count": null,
   "metadata": {},
   "outputs": [],
   "source": [
    "#Binarizing the Gender columns to make male = 1 and female = 0\n",
    "df_fft['Sex'] = [1 if x == 'm' else 0 for x in df_fft['Gender']]\n",
    "df_fft.to_csv('full_dataset_sex')"
   ]
  },
  {
   "cell_type": "code",
   "execution_count": null,
   "metadata": {},
   "outputs": [],
   "source": [
    "#Averaging the first 25 datapoints for each speaker\n",
    "df_mean = df_fft.groupby('ID').head(25)\n",
    "df_mean = df_mean.groupby('ID').mean()"
   ]
  },
  {
   "cell_type": "code",
   "execution_count": null,
   "metadata": {},
   "outputs": [],
   "source": [
    "#Creaing X and y variables\n",
    "X_features = df_mean.iloc[:,:190]\n",
    "y_target = df_mean['Sex'].values"
   ]
  },
  {
   "cell_type": "code",
   "execution_count": null,
   "metadata": {},
   "outputs": [],
   "source": [
    "#Creating column names for Keras-Pandas\n",
    "column_names = list(range(190))\n",
    "column_names = column_names + ['Spectral_Centroid', 'Spectral_Centroid_std', 'Skew', 'Kurtosis',\n",
    "       'RMSE', 'RMSE_std', 'Spectral_rolloff', 'Tempo', 'mfcc_1', 'mfcc_2',\n",
    "       'mfcc_3', 'Zero_Crossing_Rate', 'Zero_Crossing_std']"
   ]
  },
  {
   "cell_type": "code",
   "execution_count": null,
   "metadata": {},
   "outputs": [],
   "source": [
    "#Turning them into strings\n",
    "for count, i in enumerate(column_names):\n",
    "    column_names[count] = str(i)"
   ]
  },
  {
   "cell_type": "code",
   "execution_count": null,
   "metadata": {
    "scrolled": false
   },
   "outputs": [],
   "source": [
    "#Running a dense neural network using Keras-Pandas Library\n",
    "with tf.device('/gpu:0'):\n",
    "    observations = df_fft\n",
    "\n",
    "    # Transform the data set, using keras_pandas\n",
    "    numerical_vars = column_names\n",
    "    categorical_vars = ['Sex']\n",
    "\n",
    "    auto = Automater(numerical_vars=numerical_vars, categorical_vars=categorical_vars, response_var='Sex')\n",
    "    X, y = auto.fit_transform(observations)\n",
    "\n",
    "    print(y)\n",
    "    # Start model with provided input nub\n",
    "    x = auto.input_nub\n",
    "\n",
    "    # Fill in your own hidden layers\n",
    "    x = Dense(256)(x)\n",
    "    x = Dense(256, activation='relu')(x)\n",
    "    x = Dense(128)(x)\n",
    "    x = Dense(128, activation='relu')(x)\n",
    "    x = Dense(128)(x)\n",
    "    x = Dense(128, activation='relu')(x)\n",
    "    x = Dense(64)(x)\n",
    "    x = Dense(64, activation='relu')(x)\n",
    "    \n",
    "\n",
    "\n",
    "\n",
    "    # End model with provided output nub\n",
    "    x = auto.output_nub(x)\n",
    "\n",
    "    model = Model(inputs=auto.input_layers, outputs=x)\n",
    "    model.compile(optimizer='Adam', loss=auto.loss, metrics=['accuracy'])\n",
    "\n",
    "    # Train model\n",
    "    model.fit(X, y, epochs=5, validation_split=.2)"
   ]
  }
 ],
 "metadata": {
  "kernelspec": {
   "display_name": "Python 3",
   "language": "python",
   "name": "python3"
  },
  "language_info": {
   "codemirror_mode": {
    "name": "ipython",
    "version": 3
   },
   "file_extension": ".py",
   "mimetype": "text/x-python",
   "name": "python",
   "nbconvert_exporter": "python",
   "pygments_lexer": "ipython3",
   "version": "3.6.5"
  }
 },
 "nbformat": 4,
 "nbformat_minor": 2
}
