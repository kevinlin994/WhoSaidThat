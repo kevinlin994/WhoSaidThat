{
 "cells": [
  {
   "cell_type": "code",
   "execution_count": null,
   "metadata": {},
   "outputs": [],
   "source": [
    "import numpy as np\n",
    "import pandas as pd\n",
    "import librosa\n",
    "from os import listdir\n",
    "from librosa import display\n",
    "import matplotlib.pyplot as plt\n",
    "import pickle\n",
    "from scipy import signal\n",
    "from scipy import stats\n",
    "from scipy import fftpack\n",
    "import timeit"
   ]
  },
  {
   "cell_type": "code",
   "execution_count": null,
   "metadata": {},
   "outputs": [],
   "source": [
    "#Read in the paths to all the audio files. audio_paths is a dictionary.\n",
    "audio_paths = pickle.load(open( \"all_audio_paths\", \"rb\" ) )"
   ]
  },
  {
   "cell_type": "code",
   "execution_count": null,
   "metadata": {},
   "outputs": [],
   "source": [
    "#This is a dataframe with metadata of each individual.\n",
    "df = pd.read_csv('clean_meta_data')"
   ]
  },
  {
   "cell_type": "code",
   "execution_count": null,
   "metadata": {
    "scrolled": true
   },
   "outputs": [],
   "source": [
    "df.head()"
   ]
  },
  {
   "cell_type": "code",
   "execution_count": null,
   "metadata": {},
   "outputs": [],
   "source": [
    "#Determining where the index is for the ID of celeb\n",
    "index = df.iloc[df[df['VoxCeleb2 ID'] == 'id04789'].index]\n",
    "index, df['VoxCeleb2 ID'][3204]"
   ]
  },
  {
   "cell_type": "code",
   "execution_count": null,
   "metadata": {},
   "outputs": [],
   "source": [
    "#Loading in two audio files for testing purposes\n",
    "y, sr = librosa.load(audio_paths['id04239'][0], duration = 4.0, sr = 16384)\n",
    "y_f, sr = librosa.load(audio_paths['id04175'][4], duration = 4.0, sr = 16384)"
   ]
  },
  {
   "cell_type": "code",
   "execution_count": null,
   "metadata": {},
   "outputs": [],
   "source": [
    "keys_list = list(audio_paths.keys())"
   ]
  },
  {
   "cell_type": "code",
   "execution_count": null,
   "metadata": {},
   "outputs": [],
   "source": [
    "#Takes audio path, length, and sampling rate and returns the absolute value of the fourier transformation. This gives you the magnitude/power of each frequency in the audio.\n",
    "import librosa\n",
    "from scipy import fftpack\n",
    "\n",
    "def fft(path, length, sr):\n",
    "    y, sr = librosa.load(path, duration = length, sr = sr)\n",
    "    n = len(y)//2 # length of the signal\n",
    "    half_second = sr//2\n",
    "    y=y[range(n-half_second, n+half_second)]\n",
    "    y_fft = fftpack.fft(y) # fft computing\n",
    "    y_fft = y_fft[range(70,260)] # Keeps the values for the frequency from 70-260 (human speech)\n",
    "    return abs(y_fft)"
   ]
  },
  {
   "cell_type": "code",
   "execution_count": null,
   "metadata": {},
   "outputs": [],
   "source": [
    "#Goes through each audio file path and creates a dataframe with the fft and gender data.\n",
    "count = 0\n",
    "for key in df['VoxCeleb2 ID'][]:\n",
    "    if key in audio_paths.keys():\n",
    "        count+=1\n",
    "        pickle_df = pd.DataFrame()\n",
    "        gender = df.iloc[df[df['VoxCeleb2 ID'] == key].index]['Gender'].values[0]\n",
    "        for paths in audio_paths[key]:\n",
    "            temp_df = pd.DataFrame(fft(paths, 4, 16384)).T\n",
    "            temp_df['Gender'] = gender\n",
    "            temp_df['ID'] = key\n",
    "            pickle_df = pickle_df.append(temp_df)\n",
    "        pickle.dump(pickle_df, open(\"/home/ubuntu/Pickles/\"+str(key), \"wb\" ) )           \n",
    "        print(key, count)\n"
   ]
  },
  {
   "cell_type": "code",
   "execution_count": null,
   "metadata": {},
   "outputs": [],
   "source": [
    "#Same as above but I was running short on time and wanted to gather more audio from female speakers so I altered\n",
    "#the for loop to capture all female and only some male files starting at the 3204 index.\n",
    "count = 0\n",
    "for key in df['VoxCeleb2 ID'][3204:]:\n",
    "    if key in audio_paths.keys():\n",
    "        count+=1\n",
    "        pickle_df = pd.DataFrame()\n",
    "        gender = df.iloc[df[df['VoxCeleb2 ID'] == key].index]['Gender'].values[0]\n",
    "        if gender == 'f':\n",
    "            for paths in audio_paths[key]:\n",
    "                temp_df = pd.DataFrame(fft(paths, 4, 16384)).T\n",
    "                temp_df['Gender'] = gender\n",
    "                temp_df['ID'] = key\n",
    "                pickle_df = pickle_df.append(temp_df)\n",
    "            pickle.dump(pickle_df, open(\"/home/ubuntu/Pickles/\"+str(key), \"wb\" ) )\n",
    "        else:\n",
    "            for paths in audio_paths[key][:10]:\n",
    "                temp_df = pd.DataFrame(fft(paths, 4, 16384)).T\n",
    "                temp_df['Gender'] = gender\n",
    "                temp_df['ID'] = key\n",
    "                pickle_df = pickle_df.append(temp_df)\n",
    "            pickle.dump(pickle_df, open(\"/home/ubuntu/Pickles/\"+str(key), \"wb\" ) )            \n",
    "        print(key, count)"
   ]
  },
  {
   "cell_type": "code",
   "execution_count": null,
   "metadata": {},
   "outputs": [],
   "source": [
    "#Testing out my model on my classmate, Chris\n",
    "pd.DataFrame(fft('/home/ubuntu/Chris.m4a', 4, 16384)).T.to_csv('Chris_fft')"
   ]
  },
  {
   "cell_type": "code",
   "execution_count": null,
   "metadata": {},
   "outputs": [],
   "source": [
    "#Making sure that my FFT was working well.\n",
    "pd.DataFrame(fft(audio_paths['id08737'][1], 4, 16384)).T"
   ]
  },
  {
   "cell_type": "code",
   "execution_count": null,
   "metadata": {},
   "outputs": [],
   "source": [
    "#Extracting additional features from FFT.\n",
    "def extract_features(path):\n",
    "    y, sr = librosa.load(path, sr=None, duration=4.0)\n",
    "    fourier = librosa.core.stft(y)\n",
    "    magnitude, phase = librosa.magphase(fourier)\n",
    "#     components, activations = librosa.decompose.decompose(magnitude, n_components=8, sort=True)\n",
    "    \n",
    "    #Calculating spectral sentroid\n",
    "    sc = librosa.feature.spectral_centroid(y, sr=sr).mean()\n",
    "    sc_std = librosa.feature.spectral_centroid(y, sr=sr).std()\n",
    "    \n",
    "    #Calculating skew, kurtosis, and rmse\n",
    "    skew = stats.skew(y)\n",
    "    kurtosis = stats.kurtosis(y)\n",
    "    rmse = librosa.feature.rmse(S=magnitude).mean()\n",
    "    rmse_std = librosa.feature.rmse(S=magnitude).std()\n",
    "    #Calculating mean spectral roll off\n",
    "    sr = librosa.feature.spectral_rolloff(y).mean()\n",
    "    \n",
    "    #Calculating Zero-Crossing-Rate\n",
    "    zcr = librosa.feature.zero_crossing_rate(y).mean()\n",
    "    zcr_std = librosa.feature.zero_crossing_rate(y).std()\n",
    "    \n",
    "    #Calculating tempo\n",
    "    tempo = librosa.beat.tempo(y, sr=sr)[0]\n",
    "    \n",
    "    #Finding first 3 mel cepstral coefficients\n",
    "    coefficients = librosa.feature.mfcc(y=y, sr=sr, n_mfcc = 3)\n",
    "    mfcc_1 = coefficients[0].mean()\n",
    "    mfcc_2 = coefficients[1].mean()\n",
    "    mfcc_3 = coefficients[2].mean()\n",
    "    \n",
    "    #Creating a dictionary of values\n",
    "    features = dict()\n",
    "    features['Spectral_Centroid'] = [sc]\n",
    "    features['Spectral_Centroid_std'] = [sc_std]\n",
    "    features['Skew'] = [skew]\n",
    "    features['Kurtosis'] = [kurtosis]\n",
    "    features['RMSE'] = [rmse]\n",
    "    features['RMSE_std'] = [rmse_std]\n",
    "    features['Spectral_rolloff'] = [sr]\n",
    "    features['Tempo'] = [tempo]\n",
    "    features['mfcc_1'] = [mfcc_1]\n",
    "    features['mfcc_2'] = [mfcc_2]\n",
    "    features['mfcc_3'] = [mfcc_3]\n",
    "    features['Zero_Crossing_Rate'] = [zcr]\n",
    "    features['Zero_Crossing_std'] = [zcr_std]\n",
    "    \n",
    "    return features\n",
    "      "
   ]
  }
 ],
 "metadata": {
  "kernelspec": {
   "display_name": "Python 3",
   "language": "python",
   "name": "python3"
  },
  "language_info": {
   "codemirror_mode": {
    "name": "ipython",
    "version": 3
   },
   "file_extension": ".py",
   "mimetype": "text/x-python",
   "name": "python",
   "nbconvert_exporter": "python",
   "pygments_lexer": "ipython3",
   "version": "3.6.5"
  }
 },
 "nbformat": 4,
 "nbformat_minor": 2
}
